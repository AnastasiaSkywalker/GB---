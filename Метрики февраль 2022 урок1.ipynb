{
 "cells": [
  {
   "cell_type": "code",
   "execution_count": 127,
   "metadata": {},
   "outputs": [],
   "source": [
    "recommended_list = [143, 156, 1134, 991, 27, 1543, 3345, 533, 11, 43] #id товаров\n",
    "bought_list = [521, 32, 143, 991]\n",
    "prices_recommended = [1000, 120, 130, 50, 60, 130, 300, 500, 100, 400] "
   ]
  },
  {
   "cell_type": "code",
   "execution_count": 128,
   "metadata": {},
   "outputs": [],
   "source": [
    "import  numpy  as  np \n",
    "import  pandas  as  pd \n",
    "import  math"
   ]
  },
  {
   "cell_type": "markdown",
   "metadata": {},
   "source": [
    "Hit rate@k = (был ли хотя бы 1 релевантный товар среди топ-k рекомендованных)"
   ]
  },
  {
   "cell_type": "code",
   "execution_count": 129,
   "metadata": {},
   "outputs": [],
   "source": [
    "def hit_rate_at_k(recommended_list, bought_list, k=5):\n",
    "    bought_list = np.array(bought_list) \n",
    "    recommended_list = np.array(recommended_list)[:k]\n",
    "    flags = np.isin(bought_list, recommended_list) \n",
    "    return (flags.sum() > 0) * 1\n",
    "    \n",
    "    return hit_rate_at_k"
   ]
  },
  {
   "cell_type": "code",
   "execution_count": 130,
   "metadata": {},
   "outputs": [
    {
     "data": {
      "text/plain": [
       "1"
      ]
     },
     "execution_count": 130,
     "metadata": {},
     "output_type": "execute_result"
    }
   ],
   "source": [
    "hit_rate_at_k(recommended_list, bought_list)"
   ]
  },
  {
   "cell_type": "markdown",
   "metadata": {},
   "source": [
    "money_precision_at_k  = (доход от релевантных рекомендованных товаров @k) / (доход от всех рекомендованных товаров  @k)  \n",
    "\n",
    "\n",
    "    Precision = (# of recommended items that are relevant) / (# of recommended items)\n",
    "    \n",
    "    Precision @ k = (# of recommended items @k that are relevant) / (# of recommended items @k)\n",
    "    \n",
    "    Money Precision @ k = (revenue of recommended items @k that are relevant) / (revenue of recommended items @k)\n",
    "\n"
   ]
  },
  {
   "cell_type": "code",
   "execution_count": 131,
   "metadata": {},
   "outputs": [
    {
     "name": "stdout",
     "output_type": "stream",
     "text": [
      "угаданные товары [ True False False  True False], индексы угаданнных товаров (array([0, 3], dtype=int64),), стоимость угаданных товаров 1050, точность предсказания 0.7720588235294118\n"
     ]
    }
   ],
   "source": [
    "k=5\n",
    "recommended_list = np.array(recommended_list)[:k] \n",
    "prices_recommended = np.array(prices_recommended)[:k]\n",
    "bought_list = np.array(bought_list)\n",
    "    #сколько товаров угадано\n",
    "flags = np.isin(recommended_list, bought_list)\n",
    "    #сколько стоят все угаданные товары: находим индексы угаданных товаров и\n",
    "index_true_in_flags = np.where(flags == True)\n",
    "    #потом находим по аналогичным индексам стоимость и складываем\n",
    "summa = np.sum(prices_recommended[index_true_in_flags]) #это сумма угаданных товаров\n",
    "precision = summa / prices_recommended.sum()\n",
    "print(f\"угаданные товары {flags}, индексы угаданнных товаров {index_true_in_flags}, стоимость угаданных товаров {summa}, точность предсказания {precision}\")"
   ]
  },
  {
   "cell_type": "markdown",
   "metadata": {},
   "source": [
    "recall_at_k = Какой % купленных товаров был среди рекомендованных\n",
    "\n",
    "    Recall = (# of recommended items that are relevant) / (# of relevant items)\n",
    "    \n",
    "    Recall @ k = (# of recommended items @k that are relevant) / (# of relevant items)\n",
    "    "
   ]
  },
  {
   "cell_type": "code",
   "execution_count": 141,
   "metadata": {},
   "outputs": [],
   "source": [
    "def recall_at_k(recommended_list, bought_list, k=5):\n",
    "    recommended_list = np.array(recommended_list)[:k] \n",
    "    bought_list = np.array(bought_list)\n",
    "    flags = np.isin(bought_list, recommended_list) \n",
    "    recall_at_k = len(flags) * 100 / len(recommended_list)\n",
    "    return recall_at_k"
   ]
  },
  {
   "cell_type": "code",
   "execution_count": 142,
   "metadata": {},
   "outputs": [
    {
     "data": {
      "text/plain": [
       "80.0"
      ]
     },
     "execution_count": 142,
     "metadata": {},
     "output_type": "execute_result"
    }
   ],
   "source": [
    "recall_at_k(recommended_list, bought_list, k=5)"
   ]
  },
  {
   "cell_type": "markdown",
   "metadata": {},
   "source": [
    "money_recall_at_k  = процент дохода от купленных угаданнных товаров от суммы всех рекомендованных товаров  flags.sum()/prices_recommended.sum()\n",
    "\n",
    "    Money Recall @ k = (revenue of recommended items @k that are relevant) / (revenue of relevant items)\n"
   ]
  },
  {
   "cell_type": "code",
   "execution_count": 152,
   "metadata": {},
   "outputs": [],
   "source": [
    "#def money_recall_at_k(recommended_list, bought_list, prices_recommended, prices_bought, k=5):\n",
    "# prices_bought - для чего нужен этот параметр, если я его по индексам нахожу? \n",
    "\n",
    "def money_recall_at_k(recommended_list, bought_list, prices_recommended, k=5):\n",
    "    recommended_list = np.array(recommended_list)[:k] \n",
    "    prices_recommended = np.array(prices_recommended)[:k] \n",
    "    bought_list = np.array(bought_list)\n",
    "    flags = np.isin(bought_list, recommended_list) \n",
    "    index_true_in_flags = np.where(flags == True)\n",
    "    flags_sum = np.sum(prices_recommended[index_true_in_flags])\n",
    "    money_recall_at_k = flags_sum/prices_recommended.sum() * 100\n",
    "    return money_recall_at_k"
   ]
  },
  {
   "cell_type": "code",
   "execution_count": 153,
   "metadata": {},
   "outputs": [
    {
     "data": {
      "text/plain": [
       "13.23529411764706"
      ]
     },
     "execution_count": 153,
     "metadata": {},
     "output_type": "execute_result"
    }
   ],
   "source": [
    "money_recall_at_k(recommended_list, bought_list, prices_recommended, k=5)"
   ]
  },
  {
   "cell_type": "markdown",
   "metadata": {},
   "source": [
    "average_precision для ранжирования по примеру с картинки лекции"
   ]
  },
  {
   "cell_type": "code",
   "execution_count": 167,
   "metadata": {},
   "outputs": [
    {
     "data": {
      "text/plain": [
       "0.3333333333333333"
      ]
     },
     "execution_count": 167,
     "metadata": {},
     "output_type": "execute_result"
    }
   ],
   "source": [
    "import numpy as np\n",
    "from sklearn.metrics import average_precision_score\n",
    "\n",
    "k = 5\n",
    "bought_list = np.array(bought_list)\n",
    "recommended_list = recommended_list[:k]\n",
    "flags = np.isin(bought_list, recommended_list) \n",
    "\n",
    "y_true = np.array(flags)  #булевы значения\n",
    "y_scores = np.array(bought_list)\n",
    "average_precision_score(y_true, y_scores)"
   ]
  },
  {
   "cell_type": "code",
   "execution_count": 180,
   "metadata": {},
   "outputs": [],
   "source": [
    "import  numpy  as  np \n",
    "import  pandas  as  pd \n",
    "import  math\n",
    "\n",
    "recommended_list = [143, 156, 1134, 991, 27, 1543, 3345, 533, 11, 43] #id товаров\n",
    "bought_list = [521, 32, 143, 991]\n",
    "\n",
    "#ap_k = 1 / k * сумма (угаданных покупок * (k \\ pi) * flags.sum \n",
    "\n",
    "def ap_k(recommended_list, bought_list, k=5):\n",
    "    \n",
    "    bought_list = np.array(bought_list)\n",
    "    recommended_list = np.array(recommended_list)[:k]\n",
    "    #сумма угаданных покупок\n",
    "    flags = np.isin(bought_list, recommended_list) \n",
    "    index_true_in_flags = np.where(flags == True)\n",
    "    flags_sum = np.sum(prices_recommended[index_true_in_flags])\n",
    "    a_p_k = 1 / k * flags_sum * (k / np.pi()) * flags.sum\n",
    "    a_p_k = 1 / k * flags_sum * (k / np.pi()) * flags.sum        \n",
    "    return a_p_k"
   ]
  },
  {
   "cell_type": "markdown",
   "metadata": {},
   "source": [
    "ap_k это квадрат p@K??"
   ]
  },
  {
   "cell_type": "markdown",
   "metadata": {},
   "source": [
    "map@k"
   ]
  },
  {
   "cell_type": "code",
   "execution_count": null,
   "metadata": {},
   "outputs": [],
   "source": [
    "recommended_list = [[143, 156, 1134, 991, 27, 1543, 3345, 533, 11, 43],\n",
    "                    [146, 156, 1134, 991, 27, 1543, 3345, 533, 11, 43],] #id товаров\n",
    "bought_list = [[521, 32, 143, 991], [146, 29]]\n",
    "\n",
    "def map_k(recommended_list, bought_list, k=5, u=1):\n",
    "    \n",
    "    # your_code\n",
    "    \n",
    "    return result"
   ]
  },
  {
   "cell_type": "markdown",
   "metadata": {},
   "source": [
    "Метрики ранжирования*: (использовать torch)\n",
    "Mean Reciprocal Rank\n",
    "\n",
    "https://towardsdatascience.com/ranking-evaluation-metrics-for-recommender-systems-263d0a66ef54"
   ]
  },
  {
   "cell_type": "code",
   "execution_count": 183,
   "metadata": {},
   "outputs": [],
   "source": [
    "#torch.reciprocal(recommended_list)"
   ]
  },
  {
   "cell_type": "code",
   "execution_count": null,
   "metadata": {},
   "outputs": [],
   "source": [
    "def reciprocal_rank(recommended_list, bought_list):\n",
    "    # your_code\n",
    "    return result"
   ]
  },
  {
   "cell_type": "markdown",
   "metadata": {},
   "source": [
    "NDCG@k - для оценок пользователей (1-3) по учебному примеру из лекции (можно не в pyTorch, а в Numpy - в лекции пример массивов)"
   ]
  },
  {
   "cell_type": "code",
   "execution_count": null,
   "metadata": {},
   "outputs": [],
   "source": []
  }
 ],
 "metadata": {
  "kernelspec": {
   "display_name": "Python 3",
   "language": "python",
   "name": "python3"
  },
  "language_info": {
   "codemirror_mode": {
    "name": "ipython",
    "version": 3
   },
   "file_extension": ".py",
   "mimetype": "text/x-python",
   "name": "python",
   "nbconvert_exporter": "python",
   "pygments_lexer": "ipython3",
   "version": "3.8.5"
  }
 },
 "nbformat": 4,
 "nbformat_minor": 4
}
